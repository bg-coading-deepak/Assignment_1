{
 "cells": [
  {
   "cell_type": "markdown",
   "id": "98dbd77f",
   "metadata": {},
   "source": [
    "1. Who develop the Python Language?"
   ]
  },
  {
   "cell_type": "code",
   "execution_count": null,
   "id": "32153465",
   "metadata": {},
   "outputs": [],
   "source": [
    "ANS- Guido van Rossum."
   ]
  },
  {
   "cell_type": "markdown",
   "id": "437d977b",
   "metadata": {},
   "source": [
    "2. Which type of Programming does Pthon Support?"
   ]
  },
  {
   "cell_type": "code",
   "execution_count": null,
   "id": "401ae0d8",
   "metadata": {},
   "outputs": [],
   "source": [
    "ANS- Oops and Structurd Programming are fully supported."
   ]
  },
  {
   "cell_type": "markdown",
   "id": "1de153eb",
   "metadata": {},
   "source": [
    "3. Is pthon case sensetive when dealing with identifers?"
   ]
  },
  {
   "cell_type": "code",
   "execution_count": null,
   "id": "98927d42",
   "metadata": {},
   "outputs": [],
   "source": [
    "ANS- yse ,Pyhon is case sensetive."
   ]
  },
  {
   "cell_type": "markdown",
   "id": "b5cc438b",
   "metadata": {},
   "source": [
    "4. What is the correct extension of python file?"
   ]
  },
  {
   "cell_type": "code",
   "execution_count": null,
   "id": "fc39aab3",
   "metadata": {},
   "outputs": [],
   "source": [
    "ANS- .py"
   ]
  },
  {
   "cell_type": "markdown",
   "id": "10a7a2aa",
   "metadata": {},
   "source": [
    "5. Is Python code compiled or interpreted?"
   ]
  },
  {
   "cell_type": "code",
   "execution_count": null,
   "id": "e585aa3a",
   "metadata": {},
   "outputs": [],
   "source": [
    "ANS- Interepreted( It check and execute line by line to the code)"
   ]
  },
  {
   "cell_type": "markdown",
   "id": "2f95022b",
   "metadata": {},
   "source": [
    "6. Name of few blocks of code used to define in Pyhon language?"
   ]
  },
  {
   "cell_type": "code",
   "execution_count": 2,
   "id": "16e708ce",
   "metadata": {},
   "outputs": [
    {
     "name": "stdout",
     "output_type": "stream",
     "text": [
      "2 4 6 8 10 12 14 16 18 20 "
     ]
    }
   ],
   "source": [
    "# ANS\n",
    "for i in range(1,11):\n",
    "    print(i*2, end=\" \")"
   ]
  },
  {
   "cell_type": "markdown",
   "id": "21288f88",
   "metadata": {},
   "source": [
    "7. State a character used to give single-line comments in python?"
   ]
  },
  {
   "cell_type": "code",
   "execution_count": null,
   "id": "75082b1d",
   "metadata": {},
   "outputs": [],
   "source": [
    "Ans- # "
   ]
  },
  {
   "cell_type": "markdown",
   "id": "123bc59a",
   "metadata": {},
   "source": [
    "8. Mention functions which can help us to find the version of python that we are currently working on?"
   ]
  },
  {
   "cell_type": "code",
   "execution_count": 5,
   "id": "5fb75127",
   "metadata": {},
   "outputs": [
    {
     "name": "stdout",
     "output_type": "stream",
     "text": [
      "3.9.12 (main, Apr  4 2022, 05:22:27) [MSC v.1916 64 bit (AMD64)]\n"
     ]
    }
   ],
   "source": [
    "import sys\n",
    "print(sys.version)"
   ]
  },
  {
   "cell_type": "markdown",
   "id": "aefc455a",
   "metadata": {},
   "source": [
    "9. Pyhton supoorts creation for anonymous function at run time, using a constructed called"
   ]
  },
  {
   "cell_type": "code",
   "execution_count": null,
   "id": "3251131e",
   "metadata": {},
   "outputs": [],
   "source": [
    "ANS - Lambda"
   ]
  },
  {
   "cell_type": "markdown",
   "id": "a351d398",
   "metadata": {},
   "source": [
    "10. what does pip stand for ?"
   ]
  },
  {
   "cell_type": "code",
   "execution_count": null,
   "id": "5967abb3",
   "metadata": {},
   "outputs": [],
   "source": [
    "ANS- preferred installer Program"
   ]
  },
  {
   "cell_type": "markdown",
   "id": "58c62664",
   "metadata": {},
   "source": [
    "11. Mention a few built-in function in Python?"
   ]
  },
  {
   "cell_type": "code",
   "execution_count": null,
   "id": "99c2b45e",
   "metadata": {},
   "outputs": [],
   "source": [
    "ANS- chr(), classmethod(),all(), any() etc."
   ]
  },
  {
   "cell_type": "markdown",
   "id": "ecb3f8d4",
   "metadata": {},
   "source": [
    "12. WHat is the maiximum possible length of an identifier in python? "
   ]
  },
  {
   "cell_type": "code",
   "execution_count": null,
   "id": "cd731f85",
   "metadata": {},
   "outputs": [],
   "source": [
    "ANS- 79 characters."
   ]
  },
  {
   "cell_type": "markdown",
   "id": "695dda09",
   "metadata": {},
   "source": [
    "13. What is the benifits of using Python?"
   ]
  },
  {
   "cell_type": "code",
   "execution_count": null,
   "id": "847f69c2",
   "metadata": {},
   "outputs": [],
   "source": [
    "ANS- 1.Free and Open source\n",
    "     2.Interpreted language\n",
    "     3. Vast library support\n",
    "        etc."
   ]
  },
  {
   "cell_type": "markdown",
   "id": "a45beb26",
   "metadata": {},
   "source": [
    "14. HOw is Memory managed in python?"
   ]
  },
  {
   "cell_type": "code",
   "execution_count": null,
   "id": "dcd97888",
   "metadata": {},
   "outputs": [],
   "source": [
    "ANs- Python uses a portion of the memory for internal use and non-object memory."
   ]
  },
  {
   "cell_type": "markdown",
   "id": "90c36015",
   "metadata": {},
   "source": [
    "15. How to install Python on windows and set path variables?"
   ]
  },
  {
   "cell_type": "code",
   "execution_count": null,
   "id": "b81cb196",
   "metadata": {},
   "outputs": [],
   "source": [
    "ANS- step1- type \"pyhton\" in the window search bar .\n",
    "     step2- Right click on python app, and then select \"OPen file Location\"\n",
    "     step3- Right click again on tyhe Python shortcut and then select \"OPen file Location\""
   ]
  },
  {
   "cell_type": "markdown",
   "id": "ce4f08d5",
   "metadata": {},
   "source": [
    "16. Is identation required in Python?"
   ]
  },
  {
   "cell_type": "code",
   "execution_count": null,
   "id": "3777e1b7",
   "metadata": {},
   "outputs": [],
   "source": [
    "ANS- yes"
   ]
  }
 ],
 "metadata": {
  "kernelspec": {
   "display_name": "Python 3 (ipykernel)",
   "language": "python",
   "name": "python3"
  },
  "language_info": {
   "codemirror_mode": {
    "name": "ipython",
    "version": 3
   },
   "file_extension": ".py",
   "mimetype": "text/x-python",
   "name": "python",
   "nbconvert_exporter": "python",
   "pygments_lexer": "ipython3",
   "version": "3.9.12"
  }
 },
 "nbformat": 4,
 "nbformat_minor": 5
}
